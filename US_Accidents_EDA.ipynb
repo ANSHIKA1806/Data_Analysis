{
  "nbformat": 4,
  "nbformat_minor": 0,
  "metadata": {
    "colab": {
      "name": "US_Accidents_EDA.ipynb",
      "provenance": [],
      "authorship_tag": "ABX9TyOJcdICvt5+6SL598RVR9bs",
      "include_colab_link": true
    },
    "kernelspec": {
      "name": "python3",
      "display_name": "Python 3"
    },
    "language_info": {
      "name": "python"
    }
  },
  "cells": [
    {
      "cell_type": "markdown",
      "metadata": {
        "id": "view-in-github",
        "colab_type": "text"
      },
      "source": [
        "<a href=\"https://colab.research.google.com/github/ANSHIKA1806/Data_Analysis/blob/main/US_Accidents_EDA.ipynb\" target=\"_parent\"><img src=\"https://colab.research.google.com/assets/colab-badge.svg\" alt=\"Open In Colab\"/></a>"
      ]
    },
    {
      "cell_type": "code",
      "execution_count": 41,
      "metadata": {
        "id": "6K2ctvfigVfp"
      },
      "outputs": [],
      "source": [
        "import numpy as np\n",
        "import pandas as pd\n",
        "import matplotlib.pyplot as plt\n",
        "import seaborn as sns\n",
        "sns.set_style('darkgrid')"
      ]
    },
    {
      "cell_type": "code",
      "source": [
        "df = pd.read_csv('/content/US_Accidents_Dec20_updated.csv')\n",
        "df.head()"
      ],
      "metadata": {
        "colab": {
          "base_uri": "https://localhost:8080/",
          "height": 513
        },
        "id": "M9w0qBcni5qo",
        "outputId": "4f67e596-b999-481b-eefe-0d3080dd8d85"
      },
      "execution_count": 42,
      "outputs": [
        {
          "output_type": "stream",
          "name": "stderr",
          "text": [
            "/usr/local/lib/python3.7/dist-packages/IPython/core/interactiveshell.py:2718: DtypeWarning: Columns (30,31,32,33,34,35,36,37,38,39,40,41,42) have mixed types.Specify dtype option on import or set low_memory=False.\n",
            "  interactivity=interactivity, compiler=compiler, result=result)\n"
          ]
        },
        {
          "output_type": "execute_result",
          "data": {
            "text/html": [
              "\n",
              "  <div id=\"df-a06d821f-c8ad-488c-90be-56a7194d4772\">\n",
              "    <div class=\"colab-df-container\">\n",
              "      <div>\n",
              "<style scoped>\n",
              "    .dataframe tbody tr th:only-of-type {\n",
              "        vertical-align: middle;\n",
              "    }\n",
              "\n",
              "    .dataframe tbody tr th {\n",
              "        vertical-align: top;\n",
              "    }\n",
              "\n",
              "    .dataframe thead th {\n",
              "        text-align: right;\n",
              "    }\n",
              "</style>\n",
              "<table border=\"1\" class=\"dataframe\">\n",
              "  <thead>\n",
              "    <tr style=\"text-align: right;\">\n",
              "      <th></th>\n",
              "      <th>ID</th>\n",
              "      <th>Severity</th>\n",
              "      <th>Start_Time</th>\n",
              "      <th>End_Time</th>\n",
              "      <th>Start_Lat</th>\n",
              "      <th>Start_Lng</th>\n",
              "      <th>End_Lat</th>\n",
              "      <th>End_Lng</th>\n",
              "      <th>Distance(mi)</th>\n",
              "      <th>Description</th>\n",
              "      <th>Number</th>\n",
              "      <th>Street</th>\n",
              "      <th>Side</th>\n",
              "      <th>City</th>\n",
              "      <th>County</th>\n",
              "      <th>State</th>\n",
              "      <th>Zipcode</th>\n",
              "      <th>Country</th>\n",
              "      <th>Timezone</th>\n",
              "      <th>Airport_Code</th>\n",
              "      <th>Weather_Timestamp</th>\n",
              "      <th>Temperature(F)</th>\n",
              "      <th>Wind_Chill(F)</th>\n",
              "      <th>Humidity(%)</th>\n",
              "      <th>Pressure(in)</th>\n",
              "      <th>Visibility(mi)</th>\n",
              "      <th>Wind_Direction</th>\n",
              "      <th>Wind_Speed(mph)</th>\n",
              "      <th>Precipitation(in)</th>\n",
              "      <th>Weather_Condition</th>\n",
              "      <th>Amenity</th>\n",
              "      <th>Bump</th>\n",
              "      <th>Crossing</th>\n",
              "      <th>Give_Way</th>\n",
              "      <th>Junction</th>\n",
              "      <th>No_Exit</th>\n",
              "      <th>Railway</th>\n",
              "      <th>Roundabout</th>\n",
              "      <th>Station</th>\n",
              "      <th>Stop</th>\n",
              "      <th>Traffic_Calming</th>\n",
              "      <th>Traffic_Signal</th>\n",
              "      <th>Turning_Loop</th>\n",
              "      <th>Sunrise_Sunset</th>\n",
              "      <th>Civil_Twilight</th>\n",
              "      <th>Nautical_Twilight</th>\n",
              "      <th>Astronomical_Twilight</th>\n",
              "    </tr>\n",
              "  </thead>\n",
              "  <tbody>\n",
              "    <tr>\n",
              "      <th>0</th>\n",
              "      <td>A-2716600</td>\n",
              "      <td>3</td>\n",
              "      <td>2016-02-08 00:37:08</td>\n",
              "      <td>2016-02-08 06:37:08</td>\n",
              "      <td>40.10891</td>\n",
              "      <td>-83.09286</td>\n",
              "      <td>40.11206</td>\n",
              "      <td>-83.03187</td>\n",
              "      <td>3.230</td>\n",
              "      <td>Between Sawmill Rd/Exit 20 and OH-315/Olentang...</td>\n",
              "      <td>NaN</td>\n",
              "      <td>Outerbelt E</td>\n",
              "      <td>R</td>\n",
              "      <td>Dublin</td>\n",
              "      <td>Franklin</td>\n",
              "      <td>OH</td>\n",
              "      <td>43017</td>\n",
              "      <td>US</td>\n",
              "      <td>US/Eastern</td>\n",
              "      <td>KOSU</td>\n",
              "      <td>2016-02-08 00:53:00</td>\n",
              "      <td>42.1</td>\n",
              "      <td>36.1</td>\n",
              "      <td>58.0</td>\n",
              "      <td>29.76</td>\n",
              "      <td>10.0</td>\n",
              "      <td>SW</td>\n",
              "      <td>10.4</td>\n",
              "      <td>0.00</td>\n",
              "      <td>Light Rain</td>\n",
              "      <td>False</td>\n",
              "      <td>False</td>\n",
              "      <td>False</td>\n",
              "      <td>False</td>\n",
              "      <td>False</td>\n",
              "      <td>False</td>\n",
              "      <td>False</td>\n",
              "      <td>False</td>\n",
              "      <td>False</td>\n",
              "      <td>False</td>\n",
              "      <td>False</td>\n",
              "      <td>False</td>\n",
              "      <td>False</td>\n",
              "      <td>Night</td>\n",
              "      <td>Night</td>\n",
              "      <td>Night</td>\n",
              "      <td>Night</td>\n",
              "    </tr>\n",
              "    <tr>\n",
              "      <th>1</th>\n",
              "      <td>A-2716601</td>\n",
              "      <td>2</td>\n",
              "      <td>2016-02-08 05:56:20</td>\n",
              "      <td>2016-02-08 11:56:20</td>\n",
              "      <td>39.86542</td>\n",
              "      <td>-84.06280</td>\n",
              "      <td>39.86501</td>\n",
              "      <td>-84.04873</td>\n",
              "      <td>0.747</td>\n",
              "      <td>At OH-4/OH-235/Exit 41 - Accident.</td>\n",
              "      <td>NaN</td>\n",
              "      <td>I-70 E</td>\n",
              "      <td>R</td>\n",
              "      <td>Dayton</td>\n",
              "      <td>Montgomery</td>\n",
              "      <td>OH</td>\n",
              "      <td>45424</td>\n",
              "      <td>US</td>\n",
              "      <td>US/Eastern</td>\n",
              "      <td>KFFO</td>\n",
              "      <td>2016-02-08 05:58:00</td>\n",
              "      <td>36.9</td>\n",
              "      <td>NaN</td>\n",
              "      <td>91.0</td>\n",
              "      <td>29.68</td>\n",
              "      <td>10.0</td>\n",
              "      <td>Calm</td>\n",
              "      <td>NaN</td>\n",
              "      <td>0.02</td>\n",
              "      <td>Light Rain</td>\n",
              "      <td>False</td>\n",
              "      <td>False</td>\n",
              "      <td>False</td>\n",
              "      <td>False</td>\n",
              "      <td>False</td>\n",
              "      <td>False</td>\n",
              "      <td>False</td>\n",
              "      <td>False</td>\n",
              "      <td>False</td>\n",
              "      <td>False</td>\n",
              "      <td>False</td>\n",
              "      <td>False</td>\n",
              "      <td>False</td>\n",
              "      <td>Night</td>\n",
              "      <td>Night</td>\n",
              "      <td>Night</td>\n",
              "      <td>Night</td>\n",
              "    </tr>\n",
              "    <tr>\n",
              "      <th>2</th>\n",
              "      <td>A-2716602</td>\n",
              "      <td>2</td>\n",
              "      <td>2016-02-08 06:15:39</td>\n",
              "      <td>2016-02-08 12:15:39</td>\n",
              "      <td>39.10266</td>\n",
              "      <td>-84.52468</td>\n",
              "      <td>39.10209</td>\n",
              "      <td>-84.52396</td>\n",
              "      <td>0.055</td>\n",
              "      <td>At I-71/US-50/Exit 1 - Accident.</td>\n",
              "      <td>NaN</td>\n",
              "      <td>I-75 S</td>\n",
              "      <td>R</td>\n",
              "      <td>Cincinnati</td>\n",
              "      <td>Hamilton</td>\n",
              "      <td>OH</td>\n",
              "      <td>45203</td>\n",
              "      <td>US</td>\n",
              "      <td>US/Eastern</td>\n",
              "      <td>KLUK</td>\n",
              "      <td>2016-02-08 05:53:00</td>\n",
              "      <td>36.0</td>\n",
              "      <td>NaN</td>\n",
              "      <td>97.0</td>\n",
              "      <td>29.70</td>\n",
              "      <td>10.0</td>\n",
              "      <td>Calm</td>\n",
              "      <td>NaN</td>\n",
              "      <td>0.02</td>\n",
              "      <td>Overcast</td>\n",
              "      <td>False</td>\n",
              "      <td>False</td>\n",
              "      <td>False</td>\n",
              "      <td>False</td>\n",
              "      <td>True</td>\n",
              "      <td>False</td>\n",
              "      <td>False</td>\n",
              "      <td>False</td>\n",
              "      <td>False</td>\n",
              "      <td>False</td>\n",
              "      <td>False</td>\n",
              "      <td>False</td>\n",
              "      <td>False</td>\n",
              "      <td>Night</td>\n",
              "      <td>Night</td>\n",
              "      <td>Night</td>\n",
              "      <td>Day</td>\n",
              "    </tr>\n",
              "    <tr>\n",
              "      <th>3</th>\n",
              "      <td>A-2716603</td>\n",
              "      <td>2</td>\n",
              "      <td>2016-02-08 06:15:39</td>\n",
              "      <td>2016-02-08 12:15:39</td>\n",
              "      <td>39.10148</td>\n",
              "      <td>-84.52341</td>\n",
              "      <td>39.09841</td>\n",
              "      <td>-84.52241</td>\n",
              "      <td>0.219</td>\n",
              "      <td>At I-71/US-50/Exit 1 - Accident.</td>\n",
              "      <td>NaN</td>\n",
              "      <td>US-50 E</td>\n",
              "      <td>R</td>\n",
              "      <td>Cincinnati</td>\n",
              "      <td>Hamilton</td>\n",
              "      <td>OH</td>\n",
              "      <td>45202</td>\n",
              "      <td>US</td>\n",
              "      <td>US/Eastern</td>\n",
              "      <td>KLUK</td>\n",
              "      <td>2016-02-08 05:53:00</td>\n",
              "      <td>36.0</td>\n",
              "      <td>NaN</td>\n",
              "      <td>97.0</td>\n",
              "      <td>29.70</td>\n",
              "      <td>10.0</td>\n",
              "      <td>Calm</td>\n",
              "      <td>NaN</td>\n",
              "      <td>0.02</td>\n",
              "      <td>Overcast</td>\n",
              "      <td>False</td>\n",
              "      <td>False</td>\n",
              "      <td>False</td>\n",
              "      <td>False</td>\n",
              "      <td>True</td>\n",
              "      <td>False</td>\n",
              "      <td>False</td>\n",
              "      <td>False</td>\n",
              "      <td>False</td>\n",
              "      <td>False</td>\n",
              "      <td>False</td>\n",
              "      <td>False</td>\n",
              "      <td>False</td>\n",
              "      <td>Night</td>\n",
              "      <td>Night</td>\n",
              "      <td>Night</td>\n",
              "      <td>Day</td>\n",
              "    </tr>\n",
              "    <tr>\n",
              "      <th>4</th>\n",
              "      <td>A-2716604</td>\n",
              "      <td>2</td>\n",
              "      <td>2016-02-08 06:51:45</td>\n",
              "      <td>2016-02-08 12:51:45</td>\n",
              "      <td>41.06213</td>\n",
              "      <td>-81.53784</td>\n",
              "      <td>41.06217</td>\n",
              "      <td>-81.53547</td>\n",
              "      <td>0.123</td>\n",
              "      <td>At Dart Ave/Exit 21 - Accident.</td>\n",
              "      <td>NaN</td>\n",
              "      <td>I-77 N</td>\n",
              "      <td>R</td>\n",
              "      <td>Akron</td>\n",
              "      <td>Summit</td>\n",
              "      <td>OH</td>\n",
              "      <td>44311</td>\n",
              "      <td>US</td>\n",
              "      <td>US/Eastern</td>\n",
              "      <td>KAKR</td>\n",
              "      <td>2016-02-08 06:54:00</td>\n",
              "      <td>39.0</td>\n",
              "      <td>NaN</td>\n",
              "      <td>55.0</td>\n",
              "      <td>29.65</td>\n",
              "      <td>10.0</td>\n",
              "      <td>Calm</td>\n",
              "      <td>NaN</td>\n",
              "      <td>NaN</td>\n",
              "      <td>Overcast</td>\n",
              "      <td>False</td>\n",
              "      <td>False</td>\n",
              "      <td>False</td>\n",
              "      <td>False</td>\n",
              "      <td>False</td>\n",
              "      <td>False</td>\n",
              "      <td>False</td>\n",
              "      <td>False</td>\n",
              "      <td>False</td>\n",
              "      <td>False</td>\n",
              "      <td>False</td>\n",
              "      <td>False</td>\n",
              "      <td>False</td>\n",
              "      <td>Night</td>\n",
              "      <td>Night</td>\n",
              "      <td>Day</td>\n",
              "      <td>Day</td>\n",
              "    </tr>\n",
              "  </tbody>\n",
              "</table>\n",
              "</div>\n",
              "      <button class=\"colab-df-convert\" onclick=\"convertToInteractive('df-a06d821f-c8ad-488c-90be-56a7194d4772')\"\n",
              "              title=\"Convert this dataframe to an interactive table.\"\n",
              "              style=\"display:none;\">\n",
              "        \n",
              "  <svg xmlns=\"http://www.w3.org/2000/svg\" height=\"24px\"viewBox=\"0 0 24 24\"\n",
              "       width=\"24px\">\n",
              "    <path d=\"M0 0h24v24H0V0z\" fill=\"none\"/>\n",
              "    <path d=\"M18.56 5.44l.94 2.06.94-2.06 2.06-.94-2.06-.94-.94-2.06-.94 2.06-2.06.94zm-11 1L8.5 8.5l.94-2.06 2.06-.94-2.06-.94L8.5 2.5l-.94 2.06-2.06.94zm10 10l.94 2.06.94-2.06 2.06-.94-2.06-.94-.94-2.06-.94 2.06-2.06.94z\"/><path d=\"M17.41 7.96l-1.37-1.37c-.4-.4-.92-.59-1.43-.59-.52 0-1.04.2-1.43.59L10.3 9.45l-7.72 7.72c-.78.78-.78 2.05 0 2.83L4 21.41c.39.39.9.59 1.41.59.51 0 1.02-.2 1.41-.59l7.78-7.78 2.81-2.81c.8-.78.8-2.07 0-2.86zM5.41 20L4 18.59l7.72-7.72 1.47 1.35L5.41 20z\"/>\n",
              "  </svg>\n",
              "      </button>\n",
              "      \n",
              "  <style>\n",
              "    .colab-df-container {\n",
              "      display:flex;\n",
              "      flex-wrap:wrap;\n",
              "      gap: 12px;\n",
              "    }\n",
              "\n",
              "    .colab-df-convert {\n",
              "      background-color: #E8F0FE;\n",
              "      border: none;\n",
              "      border-radius: 50%;\n",
              "      cursor: pointer;\n",
              "      display: none;\n",
              "      fill: #1967D2;\n",
              "      height: 32px;\n",
              "      padding: 0 0 0 0;\n",
              "      width: 32px;\n",
              "    }\n",
              "\n",
              "    .colab-df-convert:hover {\n",
              "      background-color: #E2EBFA;\n",
              "      box-shadow: 0px 1px 2px rgba(60, 64, 67, 0.3), 0px 1px 3px 1px rgba(60, 64, 67, 0.15);\n",
              "      fill: #174EA6;\n",
              "    }\n",
              "\n",
              "    [theme=dark] .colab-df-convert {\n",
              "      background-color: #3B4455;\n",
              "      fill: #D2E3FC;\n",
              "    }\n",
              "\n",
              "    [theme=dark] .colab-df-convert:hover {\n",
              "      background-color: #434B5C;\n",
              "      box-shadow: 0px 1px 3px 1px rgba(0, 0, 0, 0.15);\n",
              "      filter: drop-shadow(0px 1px 2px rgba(0, 0, 0, 0.3));\n",
              "      fill: #FFFFFF;\n",
              "    }\n",
              "  </style>\n",
              "\n",
              "      <script>\n",
              "        const buttonEl =\n",
              "          document.querySelector('#df-a06d821f-c8ad-488c-90be-56a7194d4772 button.colab-df-convert');\n",
              "        buttonEl.style.display =\n",
              "          google.colab.kernel.accessAllowed ? 'block' : 'none';\n",
              "\n",
              "        async function convertToInteractive(key) {\n",
              "          const element = document.querySelector('#df-a06d821f-c8ad-488c-90be-56a7194d4772');\n",
              "          const dataTable =\n",
              "            await google.colab.kernel.invokeFunction('convertToInteractive',\n",
              "                                                     [key], {});\n",
              "          if (!dataTable) return;\n",
              "\n",
              "          const docLinkHtml = 'Like what you see? Visit the ' +\n",
              "            '<a target=\"_blank\" href=https://colab.research.google.com/notebooks/data_table.ipynb>data table notebook</a>'\n",
              "            + ' to learn more about interactive tables.';\n",
              "          element.innerHTML = '';\n",
              "          dataTable['output_type'] = 'display_data';\n",
              "          await google.colab.output.renderOutput(dataTable, element);\n",
              "          const docLink = document.createElement('div');\n",
              "          docLink.innerHTML = docLinkHtml;\n",
              "          element.appendChild(docLink);\n",
              "        }\n",
              "      </script>\n",
              "    </div>\n",
              "  </div>\n",
              "  "
            ],
            "text/plain": [
              "          ID  Severity  ... Nautical_Twilight Astronomical_Twilight\n",
              "0  A-2716600         3  ...             Night                 Night\n",
              "1  A-2716601         2  ...             Night                 Night\n",
              "2  A-2716602         2  ...             Night                   Day\n",
              "3  A-2716603         2  ...             Night                   Day\n",
              "4  A-2716604         2  ...               Day                   Day\n",
              "\n",
              "[5 rows x 47 columns]"
            ]
          },
          "metadata": {},
          "execution_count": 42
        }
      ]
    },
    {
      "cell_type": "code",
      "source": [
        "df.tail()"
      ],
      "metadata": {
        "id": "Iy7D4XJwjA49",
        "colab": {
          "base_uri": "https://localhost:8080/",
          "height": 600
        },
        "outputId": "5f7b654b-7ea7-4b1e-f3b4-95a8efb08401"
      },
      "execution_count": 43,
      "outputs": [
        {
          "output_type": "execute_result",
          "data": {
            "text/html": [
              "\n",
              "  <div id=\"df-23d0f943-bbbe-4429-92c7-c7a5e1b688f9\">\n",
              "    <div class=\"colab-df-container\">\n",
              "      <div>\n",
              "<style scoped>\n",
              "    .dataframe tbody tr th:only-of-type {\n",
              "        vertical-align: middle;\n",
              "    }\n",
              "\n",
              "    .dataframe tbody tr th {\n",
              "        vertical-align: top;\n",
              "    }\n",
              "\n",
              "    .dataframe thead th {\n",
              "        text-align: right;\n",
              "    }\n",
              "</style>\n",
              "<table border=\"1\" class=\"dataframe\">\n",
              "  <thead>\n",
              "    <tr style=\"text-align: right;\">\n",
              "      <th></th>\n",
              "      <th>ID</th>\n",
              "      <th>Severity</th>\n",
              "      <th>Start_Time</th>\n",
              "      <th>End_Time</th>\n",
              "      <th>Start_Lat</th>\n",
              "      <th>Start_Lng</th>\n",
              "      <th>End_Lat</th>\n",
              "      <th>End_Lng</th>\n",
              "      <th>Distance(mi)</th>\n",
              "      <th>Description</th>\n",
              "      <th>Number</th>\n",
              "      <th>Street</th>\n",
              "      <th>Side</th>\n",
              "      <th>City</th>\n",
              "      <th>County</th>\n",
              "      <th>State</th>\n",
              "      <th>Zipcode</th>\n",
              "      <th>Country</th>\n",
              "      <th>Timezone</th>\n",
              "      <th>Airport_Code</th>\n",
              "      <th>Weather_Timestamp</th>\n",
              "      <th>Temperature(F)</th>\n",
              "      <th>Wind_Chill(F)</th>\n",
              "      <th>Humidity(%)</th>\n",
              "      <th>Pressure(in)</th>\n",
              "      <th>Visibility(mi)</th>\n",
              "      <th>Wind_Direction</th>\n",
              "      <th>Wind_Speed(mph)</th>\n",
              "      <th>Precipitation(in)</th>\n",
              "      <th>Weather_Condition</th>\n",
              "      <th>Amenity</th>\n",
              "      <th>Bump</th>\n",
              "      <th>Crossing</th>\n",
              "      <th>Give_Way</th>\n",
              "      <th>Junction</th>\n",
              "      <th>No_Exit</th>\n",
              "      <th>Railway</th>\n",
              "      <th>Roundabout</th>\n",
              "      <th>Station</th>\n",
              "      <th>Stop</th>\n",
              "      <th>Traffic_Calming</th>\n",
              "      <th>Traffic_Signal</th>\n",
              "      <th>Turning_Loop</th>\n",
              "      <th>Sunrise_Sunset</th>\n",
              "      <th>Civil_Twilight</th>\n",
              "      <th>Nautical_Twilight</th>\n",
              "      <th>Astronomical_Twilight</th>\n",
              "    </tr>\n",
              "  </thead>\n",
              "  <tbody>\n",
              "    <tr>\n",
              "      <th>291090</th>\n",
              "      <td>A-3008485</td>\n",
              "      <td>2</td>\n",
              "      <td>2020-12-17 16:44:00</td>\n",
              "      <td>2020-12-17 18:50:27</td>\n",
              "      <td>39.284180</td>\n",
              "      <td>-76.735092</td>\n",
              "      <td>39.286420</td>\n",
              "      <td>-76.738652</td>\n",
              "      <td>0.245</td>\n",
              "      <td>I-695 INNER LOOP AT EXIT 15A US 40 BALTO NATIO...</td>\n",
              "      <td>NaN</td>\n",
              "      <td>I-695 N</td>\n",
              "      <td>R</td>\n",
              "      <td>Catonsville</td>\n",
              "      <td>Baltimore County</td>\n",
              "      <td>MD</td>\n",
              "      <td>21228</td>\n",
              "      <td>US</td>\n",
              "      <td>US/Eastern</td>\n",
              "      <td>KDMH</td>\n",
              "      <td>NaN</td>\n",
              "      <td>NaN</td>\n",
              "      <td>NaN</td>\n",
              "      <td>NaN</td>\n",
              "      <td>NaN</td>\n",
              "      <td>NaN</td>\n",
              "      <td>NaN</td>\n",
              "      <td>NaN</td>\n",
              "      <td>NaN</td>\n",
              "      <td>NaN</td>\n",
              "      <td>False</td>\n",
              "      <td>False</td>\n",
              "      <td>False</td>\n",
              "      <td>False</td>\n",
              "      <td>False</td>\n",
              "      <td>False</td>\n",
              "      <td>False</td>\n",
              "      <td>False</td>\n",
              "      <td>False</td>\n",
              "      <td>False</td>\n",
              "      <td>False</td>\n",
              "      <td>False</td>\n",
              "      <td>False</td>\n",
              "      <td>Day</td>\n",
              "      <td>Day</td>\n",
              "      <td>Day</td>\n",
              "      <td>Day</td>\n",
              "    </tr>\n",
              "    <tr>\n",
              "      <th>291091</th>\n",
              "      <td>A-3008486</td>\n",
              "      <td>2</td>\n",
              "      <td>2020-11-22 00:03:00</td>\n",
              "      <td>2020-11-22 02:11:00</td>\n",
              "      <td>32.757916</td>\n",
              "      <td>-117.216232</td>\n",
              "      <td>32.759628</td>\n",
              "      <td>-117.200661</td>\n",
              "      <td>0.912</td>\n",
              "      <td>Slow traffic on I-8 E - Kumeyaay Highway from ...</td>\n",
              "      <td>NaN</td>\n",
              "      <td>I-8 E</td>\n",
              "      <td>R</td>\n",
              "      <td>San Diego</td>\n",
              "      <td>San Diego</td>\n",
              "      <td>CA</td>\n",
              "      <td>92110</td>\n",
              "      <td>US</td>\n",
              "      <td>US/Pacific</td>\n",
              "      <td>KSAN</td>\n",
              "      <td>2020-11-22 00:51:00</td>\n",
              "      <td>55.0</td>\n",
              "      <td>55.0</td>\n",
              "      <td>83.0</td>\n",
              "      <td>29.99</td>\n",
              "      <td>5.0</td>\n",
              "      <td>CALM</td>\n",
              "      <td>0.0</td>\n",
              "      <td>0.0</td>\n",
              "      <td>Fair</td>\n",
              "      <td>False</td>\n",
              "      <td>False</td>\n",
              "      <td>False</td>\n",
              "      <td>False</td>\n",
              "      <td>False</td>\n",
              "      <td>False</td>\n",
              "      <td>False</td>\n",
              "      <td>False</td>\n",
              "      <td>False</td>\n",
              "      <td>False</td>\n",
              "      <td>False</td>\n",
              "      <td>False</td>\n",
              "      <td>False</td>\n",
              "      <td>Night</td>\n",
              "      <td>Night</td>\n",
              "      <td>Night</td>\n",
              "      <td>Night</td>\n",
              "    </tr>\n",
              "    <tr>\n",
              "      <th>291092</th>\n",
              "      <td>A-3008487</td>\n",
              "      <td>2</td>\n",
              "      <td>2020-11-03 22:59:10</td>\n",
              "      <td>2020-11-04 00:12:24</td>\n",
              "      <td>35.899897</td>\n",
              "      <td>-78.615492</td>\n",
              "      <td>35.910717</td>\n",
              "      <td>-78.646822</td>\n",
              "      <td>1.906</td>\n",
              "      <td>Slow traffic on I-540 from Falls of Neuse Rd/E...</td>\n",
              "      <td>NaN</td>\n",
              "      <td>I-540 W</td>\n",
              "      <td>R</td>\n",
              "      <td>Raleigh</td>\n",
              "      <td>Wake</td>\n",
              "      <td>NC</td>\n",
              "      <td>27615</td>\n",
              "      <td>US</td>\n",
              "      <td>US/Eastern</td>\n",
              "      <td>KRDU</td>\n",
              "      <td>2020-11-03 22:51:00</td>\n",
              "      <td>43.0</td>\n",
              "      <td>43.0</td>\n",
              "      <td>86.0</td>\n",
              "      <td>29.89</td>\n",
              "      <td>10.0</td>\n",
              "      <td>CALM</td>\n",
              "      <td>0.0</td>\n",
              "      <td>0.0</td>\n",
              "      <td>Fair</td>\n",
              "      <td>False</td>\n",
              "      <td>False</td>\n",
              "      <td>False</td>\n",
              "      <td>False</td>\n",
              "      <td>True</td>\n",
              "      <td>False</td>\n",
              "      <td>False</td>\n",
              "      <td>False</td>\n",
              "      <td>False</td>\n",
              "      <td>False</td>\n",
              "      <td>False</td>\n",
              "      <td>False</td>\n",
              "      <td>False</td>\n",
              "      <td>Night</td>\n",
              "      <td>Night</td>\n",
              "      <td>Night</td>\n",
              "      <td>Night</td>\n",
              "    </tr>\n",
              "    <tr>\n",
              "      <th>291093</th>\n",
              "      <td>A-3008488</td>\n",
              "      <td>2</td>\n",
              "      <td>2020-12-13 04:48:06</td>\n",
              "      <td>2020-12-13 07:03:41</td>\n",
              "      <td>39.075182</td>\n",
              "      <td>-76.946107</td>\n",
              "      <td>39.079332</td>\n",
              "      <td>-76.954897</td>\n",
              "      <td>0.552</td>\n",
              "      <td>Incident on MD-200 WB near EXIT 17 Drive with ...</td>\n",
              "      <td>NaN</td>\n",
              "      <td>Inter County Connector W</td>\n",
              "      <td>R</td>\n",
              "      <td>Silver Spring</td>\n",
              "      <td>Montgomery</td>\n",
              "      <td>MD</td>\n",
              "      <td>20904</td>\n",
              "      <td>US</td>\n",
              "      <td>US/Eastern</td>\n",
              "      <td>KCGS</td>\n",
              "      <td>2020-12-13 04:55:00</td>\n",
              "      <td>44.0</td>\n",
              "      <td>44.0</td>\n",
              "      <td>93.0</td>\n",
              "      <td>29.91</td>\n",
              "      <td>2.0</td>\n",
              "      <td>CALM</td>\n",
              "      <td>0.0</td>\n",
              "      <td>0.0</td>\n",
              "      <td>Fair</td>\n",
              "      <td>False</td>\n",
              "      <td>False</td>\n",
              "      <td>False</td>\n",
              "      <td>False</td>\n",
              "      <td>True</td>\n",
              "      <td>False</td>\n",
              "      <td>False</td>\n",
              "      <td>False</td>\n",
              "      <td>False</td>\n",
              "      <td>False</td>\n",
              "      <td>False</td>\n",
              "      <td>False</td>\n",
              "      <td>False</td>\n",
              "      <td>Night</td>\n",
              "      <td>Night</td>\n",
              "      <td>Night</td>\n",
              "      <td>Night</td>\n",
              "    </tr>\n",
              "    <tr>\n",
              "      <th>291094</th>\n",
              "      <td>A-3008489</td>\n",
              "      <td>2</td>\n",
              "      <td>2020-11-29 00:56:44</td>\n",
              "      <td>2020-11-29 02:33:42</td>\n",
              "      <td>39.079324</td>\n",
              "      <td>-76.954904</td>\n",
              "      <td>39.082114</td>\n",
              "      <td>-76.960174</td>\n",
              "      <td>0.342</td>\n",
              "      <td>Incident on MD-200 WB near MM 16 Drive with ca...</td>\n",
              "      <td>NaN</td>\n",
              "      <td>Inter County C</td>\n",
              "      <td>NaN</td>\n",
              "      <td>NaN</td>\n",
              "      <td>NaN</td>\n",
              "      <td>NaN</td>\n",
              "      <td>NaN</td>\n",
              "      <td>NaN</td>\n",
              "      <td>NaN</td>\n",
              "      <td>NaN</td>\n",
              "      <td>NaN</td>\n",
              "      <td>NaN</td>\n",
              "      <td>NaN</td>\n",
              "      <td>NaN</td>\n",
              "      <td>NaN</td>\n",
              "      <td>NaN</td>\n",
              "      <td>NaN</td>\n",
              "      <td>NaN</td>\n",
              "      <td>NaN</td>\n",
              "      <td>NaN</td>\n",
              "      <td>NaN</td>\n",
              "      <td>NaN</td>\n",
              "      <td>NaN</td>\n",
              "      <td>NaN</td>\n",
              "      <td>NaN</td>\n",
              "      <td>NaN</td>\n",
              "      <td>NaN</td>\n",
              "      <td>NaN</td>\n",
              "      <td>NaN</td>\n",
              "      <td>NaN</td>\n",
              "      <td>NaN</td>\n",
              "      <td>NaN</td>\n",
              "      <td>NaN</td>\n",
              "      <td>NaN</td>\n",
              "      <td>NaN</td>\n",
              "      <td>NaN</td>\n",
              "      <td>NaN</td>\n",
              "    </tr>\n",
              "  </tbody>\n",
              "</table>\n",
              "</div>\n",
              "      <button class=\"colab-df-convert\" onclick=\"convertToInteractive('df-23d0f943-bbbe-4429-92c7-c7a5e1b688f9')\"\n",
              "              title=\"Convert this dataframe to an interactive table.\"\n",
              "              style=\"display:none;\">\n",
              "        \n",
              "  <svg xmlns=\"http://www.w3.org/2000/svg\" height=\"24px\"viewBox=\"0 0 24 24\"\n",
              "       width=\"24px\">\n",
              "    <path d=\"M0 0h24v24H0V0z\" fill=\"none\"/>\n",
              "    <path d=\"M18.56 5.44l.94 2.06.94-2.06 2.06-.94-2.06-.94-.94-2.06-.94 2.06-2.06.94zm-11 1L8.5 8.5l.94-2.06 2.06-.94-2.06-.94L8.5 2.5l-.94 2.06-2.06.94zm10 10l.94 2.06.94-2.06 2.06-.94-2.06-.94-.94-2.06-.94 2.06-2.06.94z\"/><path d=\"M17.41 7.96l-1.37-1.37c-.4-.4-.92-.59-1.43-.59-.52 0-1.04.2-1.43.59L10.3 9.45l-7.72 7.72c-.78.78-.78 2.05 0 2.83L4 21.41c.39.39.9.59 1.41.59.51 0 1.02-.2 1.41-.59l7.78-7.78 2.81-2.81c.8-.78.8-2.07 0-2.86zM5.41 20L4 18.59l7.72-7.72 1.47 1.35L5.41 20z\"/>\n",
              "  </svg>\n",
              "      </button>\n",
              "      \n",
              "  <style>\n",
              "    .colab-df-container {\n",
              "      display:flex;\n",
              "      flex-wrap:wrap;\n",
              "      gap: 12px;\n",
              "    }\n",
              "\n",
              "    .colab-df-convert {\n",
              "      background-color: #E8F0FE;\n",
              "      border: none;\n",
              "      border-radius: 50%;\n",
              "      cursor: pointer;\n",
              "      display: none;\n",
              "      fill: #1967D2;\n",
              "      height: 32px;\n",
              "      padding: 0 0 0 0;\n",
              "      width: 32px;\n",
              "    }\n",
              "\n",
              "    .colab-df-convert:hover {\n",
              "      background-color: #E2EBFA;\n",
              "      box-shadow: 0px 1px 2px rgba(60, 64, 67, 0.3), 0px 1px 3px 1px rgba(60, 64, 67, 0.15);\n",
              "      fill: #174EA6;\n",
              "    }\n",
              "\n",
              "    [theme=dark] .colab-df-convert {\n",
              "      background-color: #3B4455;\n",
              "      fill: #D2E3FC;\n",
              "    }\n",
              "\n",
              "    [theme=dark] .colab-df-convert:hover {\n",
              "      background-color: #434B5C;\n",
              "      box-shadow: 0px 1px 3px 1px rgba(0, 0, 0, 0.15);\n",
              "      filter: drop-shadow(0px 1px 2px rgba(0, 0, 0, 0.3));\n",
              "      fill: #FFFFFF;\n",
              "    }\n",
              "  </style>\n",
              "\n",
              "      <script>\n",
              "        const buttonEl =\n",
              "          document.querySelector('#df-23d0f943-bbbe-4429-92c7-c7a5e1b688f9 button.colab-df-convert');\n",
              "        buttonEl.style.display =\n",
              "          google.colab.kernel.accessAllowed ? 'block' : 'none';\n",
              "\n",
              "        async function convertToInteractive(key) {\n",
              "          const element = document.querySelector('#df-23d0f943-bbbe-4429-92c7-c7a5e1b688f9');\n",
              "          const dataTable =\n",
              "            await google.colab.kernel.invokeFunction('convertToInteractive',\n",
              "                                                     [key], {});\n",
              "          if (!dataTable) return;\n",
              "\n",
              "          const docLinkHtml = 'Like what you see? Visit the ' +\n",
              "            '<a target=\"_blank\" href=https://colab.research.google.com/notebooks/data_table.ipynb>data table notebook</a>'\n",
              "            + ' to learn more about interactive tables.';\n",
              "          element.innerHTML = '';\n",
              "          dataTable['output_type'] = 'display_data';\n",
              "          await google.colab.output.renderOutput(dataTable, element);\n",
              "          const docLink = document.createElement('div');\n",
              "          docLink.innerHTML = docLinkHtml;\n",
              "          element.appendChild(docLink);\n",
              "        }\n",
              "      </script>\n",
              "    </div>\n",
              "  </div>\n",
              "  "
            ],
            "text/plain": [
              "               ID  Severity  ... Nautical_Twilight Astronomical_Twilight\n",
              "291090  A-3008485         2  ...               Day                   Day\n",
              "291091  A-3008486         2  ...             Night                 Night\n",
              "291092  A-3008487         2  ...             Night                 Night\n",
              "291093  A-3008488         2  ...             Night                 Night\n",
              "291094  A-3008489         2  ...               NaN                   NaN\n",
              "\n",
              "[5 rows x 47 columns]"
            ]
          },
          "metadata": {},
          "execution_count": 43
        }
      ]
    },
    {
      "cell_type": "code",
      "source": [
        "df.info()"
      ],
      "metadata": {
        "id": "EjHe-9KrjDpi",
        "colab": {
          "base_uri": "https://localhost:8080/"
        },
        "outputId": "62b283af-7700-4e52-e34d-5af0b22c6744"
      },
      "execution_count": 44,
      "outputs": [
        {
          "output_type": "stream",
          "name": "stdout",
          "text": [
            "<class 'pandas.core.frame.DataFrame'>\n",
            "RangeIndex: 291095 entries, 0 to 291094\n",
            "Data columns (total 47 columns):\n",
            " #   Column                 Non-Null Count   Dtype  \n",
            "---  ------                 --------------   -----  \n",
            " 0   ID                     291095 non-null  object \n",
            " 1   Severity               291095 non-null  int64  \n",
            " 2   Start_Time             291095 non-null  object \n",
            " 3   End_Time               291095 non-null  object \n",
            " 4   Start_Lat              291095 non-null  float64\n",
            " 5   Start_Lng              291095 non-null  float64\n",
            " 6   End_Lat                291095 non-null  float64\n",
            " 7   End_Lng                291095 non-null  float64\n",
            " 8   Distance(mi)           291095 non-null  float64\n",
            " 9   Description            291095 non-null  object \n",
            " 10  Number                 76431 non-null   float64\n",
            " 11  Street                 291095 non-null  object \n",
            " 12  Side                   291094 non-null  object \n",
            " 13  City                   291068 non-null  object \n",
            " 14  County                 291094 non-null  object \n",
            " 15  State                  291094 non-null  object \n",
            " 16  Zipcode                290913 non-null  object \n",
            " 17  Country                291094 non-null  object \n",
            " 18  Timezone               290861 non-null  object \n",
            " 19  Airport_Code           290543 non-null  object \n",
            " 20  Weather_Timestamp      287244 non-null  object \n",
            " 21  Temperature(F)         284130 non-null  float64\n",
            " 22  Wind_Chill(F)          86580 non-null   float64\n",
            " 23  Humidity(%)            283735 non-null  float64\n",
            " 24  Pressure(in)           285490 non-null  float64\n",
            " 25  Visibility(mi)         283508 non-null  float64\n",
            " 26  Wind_Direction         286802 non-null  object \n",
            " 27  Wind_Speed(mph)        249917 non-null  float64\n",
            " 28  Precipitation(in)      79117 non-null   float64\n",
            " 29  Weather_Condition      283625 non-null  object \n",
            " 30  Amenity                291094 non-null  object \n",
            " 31  Bump                   291094 non-null  object \n",
            " 32  Crossing               291094 non-null  object \n",
            " 33  Give_Way               291094 non-null  object \n",
            " 34  Junction               291094 non-null  object \n",
            " 35  No_Exit                291094 non-null  object \n",
            " 36  Railway                291094 non-null  object \n",
            " 37  Roundabout             291094 non-null  object \n",
            " 38  Station                291094 non-null  object \n",
            " 39  Stop                   291094 non-null  object \n",
            " 40  Traffic_Calming        291094 non-null  object \n",
            " 41  Traffic_Signal         291094 non-null  object \n",
            " 42  Turning_Loop           291094 non-null  object \n",
            " 43  Sunrise_Sunset         291068 non-null  object \n",
            " 44  Civil_Twilight         291068 non-null  object \n",
            " 45  Nautical_Twilight      291068 non-null  object \n",
            " 46  Astronomical_Twilight  291068 non-null  object \n",
            "dtypes: float64(13), int64(1), object(33)\n",
            "memory usage: 104.4+ MB\n"
          ]
        }
      ]
    },
    {
      "cell_type": "code",
      "source": [
        "df.describe()"
      ],
      "metadata": {
        "id": "1O3jX_tmjFMP",
        "colab": {
          "base_uri": "https://localhost:8080/",
          "height": 364
        },
        "outputId": "9ea0f338-a085-429a-fbe8-206981b26437"
      },
      "execution_count": 45,
      "outputs": [
        {
          "output_type": "execute_result",
          "data": {
            "text/html": [
              "\n",
              "  <div id=\"df-9bfcead5-5568-4989-a635-e51e604216b8\">\n",
              "    <div class=\"colab-df-container\">\n",
              "      <div>\n",
              "<style scoped>\n",
              "    .dataframe tbody tr th:only-of-type {\n",
              "        vertical-align: middle;\n",
              "    }\n",
              "\n",
              "    .dataframe tbody tr th {\n",
              "        vertical-align: top;\n",
              "    }\n",
              "\n",
              "    .dataframe thead th {\n",
              "        text-align: right;\n",
              "    }\n",
              "</style>\n",
              "<table border=\"1\" class=\"dataframe\">\n",
              "  <thead>\n",
              "    <tr style=\"text-align: right;\">\n",
              "      <th></th>\n",
              "      <th>Severity</th>\n",
              "      <th>Start_Lat</th>\n",
              "      <th>Start_Lng</th>\n",
              "      <th>End_Lat</th>\n",
              "      <th>End_Lng</th>\n",
              "      <th>Distance(mi)</th>\n",
              "      <th>Number</th>\n",
              "      <th>Temperature(F)</th>\n",
              "      <th>Wind_Chill(F)</th>\n",
              "      <th>Humidity(%)</th>\n",
              "      <th>Pressure(in)</th>\n",
              "      <th>Visibility(mi)</th>\n",
              "      <th>Wind_Speed(mph)</th>\n",
              "      <th>Precipitation(in)</th>\n",
              "    </tr>\n",
              "  </thead>\n",
              "  <tbody>\n",
              "    <tr>\n",
              "      <th>count</th>\n",
              "      <td>291095.000000</td>\n",
              "      <td>291095.000000</td>\n",
              "      <td>291095.000000</td>\n",
              "      <td>291095.000000</td>\n",
              "      <td>291095.000000</td>\n",
              "      <td>291095.000000</td>\n",
              "      <td>76431.000000</td>\n",
              "      <td>284130.00000</td>\n",
              "      <td>86580.000000</td>\n",
              "      <td>283735.000000</td>\n",
              "      <td>285490.000000</td>\n",
              "      <td>283508.000000</td>\n",
              "      <td>249917.000000</td>\n",
              "      <td>79117.000000</td>\n",
              "    </tr>\n",
              "    <tr>\n",
              "      <th>mean</th>\n",
              "      <td>2.344358</td>\n",
              "      <td>36.732589</td>\n",
              "      <td>-95.240277</td>\n",
              "      <td>36.732695</td>\n",
              "      <td>-95.240104</td>\n",
              "      <td>0.723836</td>\n",
              "      <td>7385.389933</td>\n",
              "      <td>62.36831</td>\n",
              "      <td>43.655855</td>\n",
              "      <td>64.476857</td>\n",
              "      <td>29.896437</td>\n",
              "      <td>9.280483</td>\n",
              "      <td>8.665155</td>\n",
              "      <td>0.026745</td>\n",
              "    </tr>\n",
              "    <tr>\n",
              "      <th>std</th>\n",
              "      <td>0.653119</td>\n",
              "      <td>5.080399</td>\n",
              "      <td>17.566584</td>\n",
              "      <td>5.080506</td>\n",
              "      <td>17.566541</td>\n",
              "      <td>1.730240</td>\n",
              "      <td>13947.444483</td>\n",
              "      <td>18.40335</td>\n",
              "      <td>22.045683</td>\n",
              "      <td>22.411779</td>\n",
              "      <td>0.546276</td>\n",
              "      <td>2.904595</td>\n",
              "      <td>5.638757</td>\n",
              "      <td>0.313051</td>\n",
              "    </tr>\n",
              "    <tr>\n",
              "      <th>min</th>\n",
              "      <td>1.000000</td>\n",
              "      <td>24.577410</td>\n",
              "      <td>-124.483021</td>\n",
              "      <td>24.576882</td>\n",
              "      <td>-124.482798</td>\n",
              "      <td>0.000000</td>\n",
              "      <td>1.000000</td>\n",
              "      <td>-58.00000</td>\n",
              "      <td>-58.000000</td>\n",
              "      <td>2.000000</td>\n",
              "      <td>0.020000</td>\n",
              "      <td>0.000000</td>\n",
              "      <td>0.000000</td>\n",
              "      <td>0.000000</td>\n",
              "    </tr>\n",
              "    <tr>\n",
              "      <th>25%</th>\n",
              "      <td>2.000000</td>\n",
              "      <td>33.737412</td>\n",
              "      <td>-117.348665</td>\n",
              "      <td>33.737860</td>\n",
              "      <td>-117.348518</td>\n",
              "      <td>0.103000</td>\n",
              "      <td>1099.000000</td>\n",
              "      <td>50.20000</td>\n",
              "      <td>28.700000</td>\n",
              "      <td>48.000000</td>\n",
              "      <td>29.860000</td>\n",
              "      <td>10.000000</td>\n",
              "      <td>5.000000</td>\n",
              "      <td>0.000000</td>\n",
              "    </tr>\n",
              "    <tr>\n",
              "      <th>50%</th>\n",
              "      <td>2.000000</td>\n",
              "      <td>37.311310</td>\n",
              "      <td>-88.074560</td>\n",
              "      <td>37.309960</td>\n",
              "      <td>-88.074230</td>\n",
              "      <td>0.368000</td>\n",
              "      <td>3655.000000</td>\n",
              "      <td>64.00000</td>\n",
              "      <td>41.000000</td>\n",
              "      <td>66.000000</td>\n",
              "      <td>29.980000</td>\n",
              "      <td>10.000000</td>\n",
              "      <td>8.100000</td>\n",
              "      <td>0.000000</td>\n",
              "    </tr>\n",
              "    <tr>\n",
              "      <th>75%</th>\n",
              "      <td>2.000000</td>\n",
              "      <td>40.734465</td>\n",
              "      <td>-80.752490</td>\n",
              "      <td>40.734370</td>\n",
              "      <td>-80.752327</td>\n",
              "      <td>0.701000</td>\n",
              "      <td>9050.500000</td>\n",
              "      <td>75.90000</td>\n",
              "      <td>61.000000</td>\n",
              "      <td>83.000000</td>\n",
              "      <td>30.100000</td>\n",
              "      <td>10.000000</td>\n",
              "      <td>11.500000</td>\n",
              "      <td>0.000000</td>\n",
              "    </tr>\n",
              "    <tr>\n",
              "      <th>max</th>\n",
              "      <td>4.000000</td>\n",
              "      <td>49.000580</td>\n",
              "      <td>-67.113167</td>\n",
              "      <td>49.075000</td>\n",
              "      <td>-67.109242</td>\n",
              "      <td>151.525000</td>\n",
              "      <td>851799.000000</td>\n",
              "      <td>129.20000</td>\n",
              "      <td>111.000000</td>\n",
              "      <td>100.000000</td>\n",
              "      <td>38.940000</td>\n",
              "      <td>111.000000</td>\n",
              "      <td>822.800000</td>\n",
              "      <td>10.020000</td>\n",
              "    </tr>\n",
              "  </tbody>\n",
              "</table>\n",
              "</div>\n",
              "      <button class=\"colab-df-convert\" onclick=\"convertToInteractive('df-9bfcead5-5568-4989-a635-e51e604216b8')\"\n",
              "              title=\"Convert this dataframe to an interactive table.\"\n",
              "              style=\"display:none;\">\n",
              "        \n",
              "  <svg xmlns=\"http://www.w3.org/2000/svg\" height=\"24px\"viewBox=\"0 0 24 24\"\n",
              "       width=\"24px\">\n",
              "    <path d=\"M0 0h24v24H0V0z\" fill=\"none\"/>\n",
              "    <path d=\"M18.56 5.44l.94 2.06.94-2.06 2.06-.94-2.06-.94-.94-2.06-.94 2.06-2.06.94zm-11 1L8.5 8.5l.94-2.06 2.06-.94-2.06-.94L8.5 2.5l-.94 2.06-2.06.94zm10 10l.94 2.06.94-2.06 2.06-.94-2.06-.94-.94-2.06-.94 2.06-2.06.94z\"/><path d=\"M17.41 7.96l-1.37-1.37c-.4-.4-.92-.59-1.43-.59-.52 0-1.04.2-1.43.59L10.3 9.45l-7.72 7.72c-.78.78-.78 2.05 0 2.83L4 21.41c.39.39.9.59 1.41.59.51 0 1.02-.2 1.41-.59l7.78-7.78 2.81-2.81c.8-.78.8-2.07 0-2.86zM5.41 20L4 18.59l7.72-7.72 1.47 1.35L5.41 20z\"/>\n",
              "  </svg>\n",
              "      </button>\n",
              "      \n",
              "  <style>\n",
              "    .colab-df-container {\n",
              "      display:flex;\n",
              "      flex-wrap:wrap;\n",
              "      gap: 12px;\n",
              "    }\n",
              "\n",
              "    .colab-df-convert {\n",
              "      background-color: #E8F0FE;\n",
              "      border: none;\n",
              "      border-radius: 50%;\n",
              "      cursor: pointer;\n",
              "      display: none;\n",
              "      fill: #1967D2;\n",
              "      height: 32px;\n",
              "      padding: 0 0 0 0;\n",
              "      width: 32px;\n",
              "    }\n",
              "\n",
              "    .colab-df-convert:hover {\n",
              "      background-color: #E2EBFA;\n",
              "      box-shadow: 0px 1px 2px rgba(60, 64, 67, 0.3), 0px 1px 3px 1px rgba(60, 64, 67, 0.15);\n",
              "      fill: #174EA6;\n",
              "    }\n",
              "\n",
              "    [theme=dark] .colab-df-convert {\n",
              "      background-color: #3B4455;\n",
              "      fill: #D2E3FC;\n",
              "    }\n",
              "\n",
              "    [theme=dark] .colab-df-convert:hover {\n",
              "      background-color: #434B5C;\n",
              "      box-shadow: 0px 1px 3px 1px rgba(0, 0, 0, 0.15);\n",
              "      filter: drop-shadow(0px 1px 2px rgba(0, 0, 0, 0.3));\n",
              "      fill: #FFFFFF;\n",
              "    }\n",
              "  </style>\n",
              "\n",
              "      <script>\n",
              "        const buttonEl =\n",
              "          document.querySelector('#df-9bfcead5-5568-4989-a635-e51e604216b8 button.colab-df-convert');\n",
              "        buttonEl.style.display =\n",
              "          google.colab.kernel.accessAllowed ? 'block' : 'none';\n",
              "\n",
              "        async function convertToInteractive(key) {\n",
              "          const element = document.querySelector('#df-9bfcead5-5568-4989-a635-e51e604216b8');\n",
              "          const dataTable =\n",
              "            await google.colab.kernel.invokeFunction('convertToInteractive',\n",
              "                                                     [key], {});\n",
              "          if (!dataTable) return;\n",
              "\n",
              "          const docLinkHtml = 'Like what you see? Visit the ' +\n",
              "            '<a target=\"_blank\" href=https://colab.research.google.com/notebooks/data_table.ipynb>data table notebook</a>'\n",
              "            + ' to learn more about interactive tables.';\n",
              "          element.innerHTML = '';\n",
              "          dataTable['output_type'] = 'display_data';\n",
              "          await google.colab.output.renderOutput(dataTable, element);\n",
              "          const docLink = document.createElement('div');\n",
              "          docLink.innerHTML = docLinkHtml;\n",
              "          element.appendChild(docLink);\n",
              "        }\n",
              "      </script>\n",
              "    </div>\n",
              "  </div>\n",
              "  "
            ],
            "text/plain": [
              "            Severity      Start_Lat  ...  Wind_Speed(mph)  Precipitation(in)\n",
              "count  291095.000000  291095.000000  ...    249917.000000       79117.000000\n",
              "mean        2.344358      36.732589  ...         8.665155           0.026745\n",
              "std         0.653119       5.080399  ...         5.638757           0.313051\n",
              "min         1.000000      24.577410  ...         0.000000           0.000000\n",
              "25%         2.000000      33.737412  ...         5.000000           0.000000\n",
              "50%         2.000000      37.311310  ...         8.100000           0.000000\n",
              "75%         2.000000      40.734465  ...        11.500000           0.000000\n",
              "max         4.000000      49.000580  ...       822.800000          10.020000\n",
              "\n",
              "[8 rows x 14 columns]"
            ]
          },
          "metadata": {},
          "execution_count": 45
        }
      ]
    },
    {
      "cell_type": "code",
      "source": [
        " rows = len(df.axes[0])\n",
        " col = len(df.axes[1])\n",
        " print ( rows ,\" rows\")\n",
        " print (col, \"columns\")"
      ],
      "metadata": {
        "id": "DIkrflgLjbML",
        "colab": {
          "base_uri": "https://localhost:8080/"
        },
        "outputId": "b882d96a-7d1a-4ac4-98eb-7589ae8f5f2f"
      },
      "execution_count": 46,
      "outputs": [
        {
          "output_type": "stream",
          "name": "stdout",
          "text": [
            "291095  rows\n",
            "47 columns\n"
          ]
        }
      ]
    },
    {
      "cell_type": "code",
      "source": [
        "missing_percentages = df.isna().sum().sort_values(ascending =False)\n",
        "missing_percentages"
      ],
      "metadata": {
        "id": "HQdccBbSoX9N",
        "colab": {
          "base_uri": "https://localhost:8080/"
        },
        "outputId": "9859691f-c4bd-4a4e-9d69-a0e47a7819ec"
      },
      "execution_count": 47,
      "outputs": [
        {
          "output_type": "execute_result",
          "data": {
            "text/plain": [
              "Number                   214664\n",
              "Precipitation(in)        211978\n",
              "Wind_Chill(F)            204515\n",
              "Wind_Speed(mph)           41178\n",
              "Visibility(mi)             7587\n",
              "Weather_Condition          7470\n",
              "Humidity(%)                7360\n",
              "Temperature(F)             6965\n",
              "Pressure(in)               5605\n",
              "Wind_Direction             4293\n",
              "Weather_Timestamp          3851\n",
              "Airport_Code                552\n",
              "Timezone                    234\n",
              "Zipcode                     182\n",
              "City                         27\n",
              "Nautical_Twilight            27\n",
              "Astronomical_Twilight        27\n",
              "Civil_Twilight               27\n",
              "Sunrise_Sunset               27\n",
              "Amenity                       1\n",
              "Traffic_Calming               1\n",
              "Side                          1\n",
              "Bump                          1\n",
              "State                         1\n",
              "Turning_Loop                  1\n",
              "Country                       1\n",
              "Traffic_Signal                1\n",
              "County                        1\n",
              "Stop                          1\n",
              "Roundabout                    1\n",
              "Railway                       1\n",
              "No_Exit                       1\n",
              "Junction                      1\n",
              "Give_Way                      1\n",
              "Crossing                      1\n",
              "Station                       1\n",
              "Start_Lng                     0\n",
              "Severity                      0\n",
              "Start_Time                    0\n",
              "End_Time                      0\n",
              "Start_Lat                     0\n",
              "Description                   0\n",
              "End_Lat                       0\n",
              "End_Lng                       0\n",
              "Distance(mi)                  0\n",
              "Street                        0\n",
              "ID                            0\n",
              "dtype: int64"
            ]
          },
          "metadata": {},
          "execution_count": 47
        }
      ]
    },
    {
      "cell_type": "code",
      "source": [
        "missing_percentages[missing_percentages != 0].plot(kind='bar')"
      ],
      "metadata": {
        "id": "Utf0O9vLoyTp",
        "colab": {
          "base_uri": "https://localhost:8080/",
          "height": 380
        },
        "outputId": "0cbdc86f-90a8-4423-cbaa-47eee0d8d94b"
      },
      "execution_count": 48,
      "outputs": [
        {
          "output_type": "execute_result",
          "data": {
            "text/plain": [
              "<matplotlib.axes._subplots.AxesSubplot at 0x7fd906f3c8d0>"
            ]
          },
          "metadata": {},
          "execution_count": 48
        },
        {
          "output_type": "display_data",
          "data": {
            "image/png": "[encoded data removed]",
            "text/plain": [
              "<Figure size 432x288 with 1 Axes>"
            ]
          },
          "metadata": {}
        }
      ]
    },
    {
      "cell_type": "code",
      "source": [
        "df.columns"
      ],
      "metadata": {
        "id": "57aZfs4lre1W",
        "colab": {
          "base_uri": "https://localhost:8080/"
        },
        "outputId": "4572a44d-8f03-425e-f8ab-373afb61a631"
      },
      "execution_count": 49,
      "outputs": [
        {
          "output_type": "execute_result",
          "data": {
            "text/plain": [
              "Index(['ID', 'Severity', 'Start_Time', 'End_Time', 'Start_Lat', 'Start_Lng',\n",
              "       'End_Lat', 'End_Lng', 'Distance(mi)', 'Description', 'Number', 'Street',\n",
              "       'Side', 'City', 'County', 'State', 'Zipcode', 'Country', 'Timezone',\n",
              "       'Airport_Code', 'Weather_Timestamp', 'Temperature(F)', 'Wind_Chill(F)',\n",
              "       'Humidity(%)', 'Pressure(in)', 'Visibility(mi)', 'Wind_Direction',\n",
              "       'Wind_Speed(mph)', 'Precipitation(in)', 'Weather_Condition', 'Amenity',\n",
              "       'Bump', 'Crossing', 'Give_Way', 'Junction', 'No_Exit', 'Railway',\n",
              "       'Roundabout', 'Station', 'Stop', 'Traffic_Calming', 'Traffic_Signal',\n",
              "       'Turning_Loop', 'Sunrise_Sunset', 'Civil_Twilight', 'Nautical_Twilight',\n",
              "       'Astronomical_Twilight'],\n",
              "      dtype='object')"
            ]
          },
          "metadata": {},
          "execution_count": 49
        }
      ]
    },
    {
      "cell_type": "code",
      "source": [
        "Cities = df.City.unique()\n",
        "len(Cities)"
      ],
      "metadata": {
        "id": "HDZGh1F8sb3B",
        "colab": {
          "base_uri": "https://localhost:8080/"
        },
        "outputId": "272cf3bd-095a-40b2-a5a2-20f32467a6ab"
      },
      "execution_count": 50,
      "outputs": [
        {
          "output_type": "execute_result",
          "data": {
            "text/plain": [
              "8077"
            ]
          },
          "metadata": {},
          "execution_count": 50
        }
      ]
    },
    {
      "cell_type": "code",
      "source": [
        "acc_cities = df.City.value_counts()\n",
        "acc_cities"
      ],
      "metadata": {
        "id": "PjCYEFSdsud0",
        "colab": {
          "base_uri": "https://localhost:8080/"
        },
        "outputId": "f5466980-ccf1-48b8-d64c-5e9b73a9c282"
      },
      "execution_count": 51,
      "outputs": [
        {
          "output_type": "execute_result",
          "data": {
            "text/plain": [
              "Charlotte             9414\n",
              "Houston               6651\n",
              "Los Angeles           6515\n",
              "Miami                 6357\n",
              "Dallas                5671\n",
              "                      ... \n",
              "Howland                  1\n",
              "Lewiston Woodville       1\n",
              "Beasley                  1\n",
              "Fort Gratiot             1\n",
              "Mill City                1\n",
              "Name: City, Length: 8076, dtype: int64"
            ]
          },
          "metadata": {},
          "execution_count": 51
        }
      ]
    },
    {
      "cell_type": "code",
      "source": [
        "\n",
        "acc_cities[:15].plot( kind='bar')"
      ],
      "metadata": {
        "id": "6CLeQeNjtrul",
        "colab": {
          "base_uri": "https://localhost:8080/",
          "height": 332
        },
        "outputId": "d515ec82-1830-4eb8-e4d8-008763c0470a"
      },
      "execution_count": 52,
      "outputs": [
        {
          "output_type": "execute_result",
          "data": {
            "text/plain": [
              "<matplotlib.axes._subplots.AxesSubplot at 0x7fd906e53710>"
            ]
          },
          "metadata": {},
          "execution_count": 52
        },
        {
          "output_type": "display_data",
          "data": {
            "image/png": "[encoded data removed]",
            "text/plain": [
              "<Figure size 432x288 with 1 Axes>"
            ]
          },
          "metadata": {}
        }
      ]
    },
    {
      "cell_type": "code",
      "source": [
        "sns.distplot(acc_cities)"
      ],
      "metadata": {
        "id": "gbnNL99Zuf5u",
        "colab": {
          "base_uri": "https://localhost:8080/",
          "height": 351
        },
        "outputId": "cec24d9e-f647-40c9-f0c7-d2acfa1b7cca"
      },
      "execution_count": 53,
      "outputs": [
        {
          "output_type": "stream",
          "name": "stderr",
          "text": [
            "/usr/local/lib/python3.7/dist-packages/seaborn/distributions.py:2619: FutureWarning: `distplot` is a deprecated function and will be removed in a future version. Please adapt your code to use either `displot` (a figure-level function with similar flexibility) or `histplot` (an axes-level function for histograms).\n",
            "  warnings.warn(msg, FutureWarning)\n"
          ]
        },
        {
          "output_type": "execute_result",
          "data": {
            "text/plain": [
              "<matplotlib.axes._subplots.AxesSubplot at 0x7fd906de8c10>"
            ]
          },
          "metadata": {},
          "execution_count": 53
        },
        {
          "output_type": "display_data",
          "data": {
            "image/png": "[encoded data removed]",
            "text/plain": [
              "<Figure size 432x288 with 1 Axes>"
            ]
          },
          "metadata": {}
        }
      ]
    },
    {
      "cell_type": "code",
      "source": [
        "high = acc_cities[acc_cities >=1000]\n",
        "low = acc_cities[acc_cities <=1000]\n",
        "print(high)"
      ],
      "metadata": {
        "colab": {
          "base_uri": "https://localhost:8080/"
        },
        "id": "xXBBDxgfgnxK",
        "outputId": "76f9e563-6791-4392-eecc-c2b79c749f9a"
      },
      "execution_count": 54,
      "outputs": [
        {
          "output_type": "stream",
          "name": "stdout",
          "text": [
            "Charlotte          9414\n",
            "Houston            6651\n",
            "Los Angeles        6515\n",
            "Miami              6357\n",
            "Dallas             5671\n",
            "Chicago            3725\n",
            "Orlando            3712\n",
            "San Diego          2560\n",
            "Sacramento         2524\n",
            "Atlanta            2463\n",
            "Minneapolis        2217\n",
            "Kansas City        2215\n",
            "Phoenix            2018\n",
            "San Jose           1975\n",
            "Las Vegas          1927\n",
            "Saint Louis        1845\n",
            "Raleigh            1757\n",
            "Saint Paul         1711\n",
            "Seattle            1676\n",
            "Nashville          1590\n",
            "Detroit            1500\n",
            "Jacksonville       1451\n",
            "Tampa              1405\n",
            "Bronx              1389\n",
            "Fort Worth         1347\n",
            "Fort Lauderdale    1291\n",
            "Austin             1283\n",
            "Riverside          1268\n",
            "Columbus           1260\n",
            "Oakland            1255\n",
            "Milwaukee          1245\n",
            "Philadelphia       1181\n",
            "Indianapolis       1151\n",
            "New York           1091\n",
            "Long Beach         1069\n",
            "Brooklyn           1057\n",
            "Corona             1020\n",
            "Name: City, dtype: int64\n"
          ]
        }
      ]
    },
    {
      "cell_type": "code",
      "source": [
        "len(high)"
      ],
      "metadata": {
        "colab": {
          "base_uri": "https://localhost:8080/"
        },
        "id": "EyygbRbgAR0q",
        "outputId": "5c74c60c-1d9d-4a1a-a4be-7ef40e6e1967"
      },
      "execution_count": 55,
      "outputs": [
        {
          "output_type": "execute_result",
          "data": {
            "text/plain": [
              "37"
            ]
          },
          "metadata": {},
          "execution_count": 55
        }
      ]
    },
    {
      "cell_type": "code",
      "source": [
        "len(low)\n"
      ],
      "metadata": {
        "colab": {
          "base_uri": "https://localhost:8080/"
        },
        "id": "JXOyewQcAm4a",
        "outputId": "6c35db0c-d754-471c-8422-641e763d4a6f"
      },
      "execution_count": 56,
      "outputs": [
        {
          "output_type": "execute_result",
          "data": {
            "text/plain": [
              "8039"
            ]
          },
          "metadata": {},
          "execution_count": 56
        }
      ]
    },
    {
      "cell_type": "code",
      "source": [
        "sns.distplot(low)"
      ],
      "metadata": {
        "colab": {
          "base_uri": "https://localhost:8080/",
          "height": 351
        },
        "id": "eh3VjSBVB1cT",
        "outputId": "893f6569-a4b1-4d0d-a84e-4ce13cf60812"
      },
      "execution_count": 57,
      "outputs": [
        {
          "output_type": "stream",
          "name": "stderr",
          "text": [
            "/usr/local/lib/python3.7/dist-packages/seaborn/distributions.py:2619: FutureWarning: `distplot` is a deprecated function and will be removed in a future version. Please adapt your code to use either `displot` (a figure-level function with similar flexibility) or `histplot` (an axes-level function for histograms).\n",
            "  warnings.warn(msg, FutureWarning)\n"
          ]
        },
        {
          "output_type": "execute_result",
          "data": {
            "text/plain": [
              "<matplotlib.axes._subplots.AxesSubplot at 0x7fd906d9e810>"
            ]
          },
          "metadata": {},
          "execution_count": 57
        },
        {
          "output_type": "display_data",
          "data": {
            "image/png": "[encoded data removed]",
            "text/plain": [
              "<Figure size 432x288 with 1 Axes>"
            ]
          },
          "metadata": {}
        }
      ]
    },
    {
      "cell_type": "code",
      "source": [
        " sns.histplot(acc_cities,log_scale=True)"
      ],
      "metadata": {
        "colab": {
          "base_uri": "https://localhost:8080/",
          "height": 300
        },
        "id": "1S88GNI8B1ZA",
        "outputId": "c01a0d6f-5486-49e8-f5fe-3e35fc4e8622"
      },
      "execution_count": 58,
      "outputs": [
        {
          "output_type": "execute_result",
          "data": {
            "text/plain": [
              "<matplotlib.axes._subplots.AxesSubplot at 0x7fd90e2d7810>"
            ]
          },
          "metadata": {},
          "execution_count": 58
        },
        {
          "output_type": "display_data",
          "data": {
            "image/png": "[encoded data removed]",
            "text/plain": [
              "<Figure size 432x288 with 1 Axes>"
            ]
          },
          "metadata": {}
        }
      ]
    },
    {
      "cell_type": "code",
      "source": [
        "acc_cities[acc_cities==2]"
      ],
      "metadata": {
        "colab": {
          "base_uri": "https://localhost:8080/"
        },
        "id": "LjEiTosMB1Wu",
        "outputId": "0d12b4c6-dc12-4931-8ab1-51cfb643a8e6"
      },
      "execution_count": 59,
      "outputs": [
        {
          "output_type": "execute_result",
          "data": {
            "text/plain": [
              "Chocorua         2\n",
              "Strykersville    2\n",
              "Paragould        2\n",
              "Hamptonville     2\n",
              "El Portal        2\n",
              "                ..\n",
              "Towanda          2\n",
              "Maljamar         2\n",
              "Demorest         2\n",
              "Falls Village    2\n",
              "Pendroy          2\n",
              "Name: City, Length: 1042, dtype: int64"
            ]
          },
          "metadata": {},
          "execution_count": 59
        }
      ]
    },
    {
      "cell_type": "code",
      "source": [
        "df.Start_Time = pd.to_datetime(df.Start_Time)\n",
        "df.Start_Time"
      ],
      "metadata": {
        "colab": {
          "base_uri": "https://localhost:8080/"
        },
        "id": "8Bg6ermdB1U2",
        "outputId": "82ec8d85-2b6f-4e76-f8eb-be64552121ec"
      },
      "execution_count": 64,
      "outputs": [
        {
          "output_type": "execute_result",
          "data": {
            "text/plain": [
              "0        2016-02-08 00:37:08\n",
              "1        2016-02-08 05:56:20\n",
              "2        2016-02-08 06:15:39\n",
              "3        2016-02-08 06:15:39\n",
              "4        2016-02-08 06:51:45\n",
              "                 ...        \n",
              "291090   2020-12-17 16:44:00\n",
              "291091   2020-11-22 00:03:00\n",
              "291092   2020-11-03 22:59:10\n",
              "291093   2020-12-13 04:48:06\n",
              "291094   2020-11-29 00:56:44\n",
              "Name: Start_Time, Length: 291095, dtype: datetime64[ns]"
            ]
          },
          "metadata": {},
          "execution_count": 64
        }
      ]
    },
    {
      "cell_type": "code",
      "source": [
        "df.Start_Time.dt.hour"
      ],
      "metadata": {
        "colab": {
          "base_uri": "https://localhost:8080/"
        },
        "id": "GwVP3a6sHntU",
        "outputId": "edf09b2e-1799-4727-f53c-a3535dbdd782"
      },
      "execution_count": 65,
      "outputs": [
        {
          "output_type": "execute_result",
          "data": {
            "text/plain": [
              "0          0\n",
              "1          5\n",
              "2          6\n",
              "3          6\n",
              "4          6\n",
              "          ..\n",
              "291090    16\n",
              "291091     0\n",
              "291092    22\n",
              "291093     4\n",
              "291094     0\n",
              "Name: Start_Time, Length: 291095, dtype: int64"
            ]
          },
          "metadata": {},
          "execution_count": 65
        }
      ]
    },
    {
      "cell_type": "code",
      "source": [
        "sns.distplot(df.Start_Time.dt.hour, bins=24, kde=False, norm_hist=True)"
      ],
      "metadata": {
        "colab": {
          "base_uri": "https://localhost:8080/",
          "height": 352
        },
        "id": "vc1Q0ujuB1SI",
        "outputId": "4291b27a-fe58-4626-835e-97881d62aaf7"
      },
      "execution_count": 61,
      "outputs": [
        {
          "output_type": "stream",
          "name": "stderr",
          "text": [
            "/usr/local/lib/python3.7/dist-packages/seaborn/distributions.py:2619: FutureWarning: `distplot` is a deprecated function and will be removed in a future version. Please adapt your code to use either `displot` (a figure-level function with similar flexibility) or `histplot` (an axes-level function for histograms).\n",
            "  warnings.warn(msg, FutureWarning)\n"
          ]
        },
        {
          "output_type": "execute_result",
          "data": {
            "text/plain": [
              "<matplotlib.axes._subplots.AxesSubplot at 0x7fd90692bf10>"
            ]
          },
          "metadata": {},
          "execution_count": 61
        },
        {
          "output_type": "display_data",
          "data": {
            "image/png": "[encoded data removed]",
            "text/plain": [
              "<Figure size 432x288 with 1 Axes>"
            ]
          },
          "metadata": {}
        }
      ]
    },
    {
      "cell_type": "code",
      "source": [
        "sns.distplot(df.Start_Time.dt.dayofweek, bins=7 , kde=False , norm_hist=True)"
      ],
      "metadata": {
        "colab": {
          "base_uri": "https://localhost:8080/",
          "height": 352
        },
        "id": "duAIXOJtB1PZ",
        "outputId": "e195d856-91de-4d4e-c0da-2b2a721de10e"
      },
      "execution_count": 62,
      "outputs": [
        {
          "output_type": "stream",
          "name": "stderr",
          "text": [
            "/usr/local/lib/python3.7/dist-packages/seaborn/distributions.py:2619: FutureWarning: `distplot` is a deprecated function and will be removed in a future version. Please adapt your code to use either `displot` (a figure-level function with similar flexibility) or `histplot` (an axes-level function for histograms).\n",
            "  warnings.warn(msg, FutureWarning)\n"
          ]
        },
        {
          "output_type": "execute_result",
          "data": {
            "text/plain": [
              "<matplotlib.axes._subplots.AxesSubplot at 0x7fd91271e710>"
            ]
          },
          "metadata": {},
          "execution_count": 62
        },
        {
          "output_type": "display_data",
          "data": {
            "image/png": "[encoded data removed]",
            "text/plain": [
              "<Figure size 432x288 with 1 Axes>"
            ]
          },
          "metadata": {}
        }
      ]
    },
    {
      "cell_type": "code",
      "source": [
        "sundays_start_time = df.Start_Time[df.Start_Time.dt.dayofweek == 6]\n",
        "sns.distplot(sundays_start_time.dt.hour, bins=24, kde=False, norm_hist=True)"
      ],
      "metadata": {
        "colab": {
          "base_uri": "https://localhost:8080/",
          "height": 352
        },
        "id": "3ZocZhqgGVQl",
        "outputId": "0860e0aa-3c25-4a22-b8e6-d9fae68c4cf7"
      },
      "execution_count": 63,
      "outputs": [
        {
          "output_type": "stream",
          "name": "stderr",
          "text": [
            "/usr/local/lib/python3.7/dist-packages/seaborn/distributions.py:2619: FutureWarning: `distplot` is a deprecated function and will be removed in a future version. Please adapt your code to use either `displot` (a figure-level function with similar flexibility) or `histplot` (an axes-level function for histograms).\n",
            "  warnings.warn(msg, FutureWarning)\n"
          ]
        },
        {
          "output_type": "execute_result",
          "data": {
            "text/plain": [
              "<matplotlib.axes._subplots.AxesSubplot at 0x7fd906896710>"
            ]
          },
          "metadata": {},
          "execution_count": 63
        },
        {
          "output_type": "display_data",
          "data": {
            "image/png": "[encoded data removed]",
            "text/plain": [
              "<Figure size 432x288 with 1 Axes>"
            ]
          },
          "metadata": {}
        }
      ]
    },
    {
      "cell_type": "code",
      "source": [
        "df_2016 =df.Start_Time.dt.year ==2016\n",
        "sns.distplot(df.Start_Time.dt.month,bins=12,kde =False, norm_hist= True)"
      ],
      "metadata": {
        "colab": {
          "base_uri": "https://localhost:8080/",
          "height": 352
        },
        "id": "O6qyLHR1Htqj",
        "outputId": "4e0fd316-c7ac-4cb8-a0dc-e4977400515e"
      },
      "execution_count": 66,
      "outputs": [
        {
          "output_type": "stream",
          "name": "stderr",
          "text": [
            "/usr/local/lib/python3.7/dist-packages/seaborn/distributions.py:2619: FutureWarning: `distplot` is a deprecated function and will be removed in a future version. Please adapt your code to use either `displot` (a figure-level function with similar flexibility) or `histplot` (an axes-level function for histograms).\n",
            "  warnings.warn(msg, FutureWarning)\n"
          ]
        },
        {
          "output_type": "execute_result",
          "data": {
            "text/plain": [
              "<matplotlib.axes._subplots.AxesSubplot at 0x7fd906b4b610>"
            ]
          },
          "metadata": {},
          "execution_count": 66
        },
        {
          "output_type": "display_data",
          "data": {
            "image/png": "[encoded data removed]",
            "text/plain": [
              "<Figure size 432x288 with 1 Axes>"
            ]
          },
          "metadata": {}
        }
      ]
    },
    {
      "cell_type": "code",
      "source": [
        ""
      ],
      "metadata": {
        "id": "uW-kjibEHtmd"
      },
      "execution_count": null,
      "outputs": []
    },
    {
      "cell_type": "code",
      "source": [
        ""
      ],
      "metadata": {
        "id": "nUaahLacHtkX"
      },
      "execution_count": null,
      "outputs": []
    },
    {
      "cell_type": "code",
      "source": [
        ""
      ],
      "metadata": {
        "id": "d4_mQwezHtiA"
      },
      "execution_count": null,
      "outputs": []
    },
    {
      "cell_type": "code",
      "source": [
        ""
      ],
      "metadata": {
        "id": "eq-ULILZHtfn"
      },
      "execution_count": null,
      "outputs": []
    },
    {
      "cell_type": "code",
      "source": [
        ""
      ],
      "metadata": {
        "id": "EyA1aw4DHtdK"
      },
      "execution_count": null,
      "outputs": []
    },
    {
      "cell_type": "code",
      "source": [
        ""
      ],
      "metadata": {
        "id": "-xVipJ-FHtL0"
      },
      "execution_count": null,
      "outputs": []
    },
    {
      "cell_type": "markdown",
      "source": [
        "##Insights \n",
        "\n",
        "- No data for New York\n",
        "- No city has more than 1000 yearly accidents.\n",
        "- A high percentage of accidents occur between 3PM TO 6PM. \n",
        "- On sundays the peak occurs at 12am to 3am.\n",
        "- Most accidents occur in the monthof November and December.\n",
        "\n"
      ],
      "metadata": {
        "id": "HlaRguq9BdMN"
      }
    }
  ]
}